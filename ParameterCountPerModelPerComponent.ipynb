{
 "cells": [
  {
   "cell_type": "code",
   "execution_count": null,
   "metadata": {},
   "outputs": [],
   "source": [
    "import matplotlib as mpl\n",
    "import matplotlib.pyplot as plt\n",
    "import transformers\n",
    "from transformers import AutoModelForCausalLM \n",
    "from dotenv import load_dotenv\n",
    "import gc\n",
    "import torch\n",
    "import pandas as pd\n",
    "\n",
    "from baa import add_custom_name_to_linear_layers, get_memory_usage, count_parameters\n"
   ]
  },
  {
   "cell_type": "code",
   "execution_count": null,
   "metadata": {},
   "outputs": [],
   "source": [
    "load_dotenv()"
   ]
  },
  {
   "cell_type": "code",
   "execution_count": null,
   "metadata": {},
   "outputs": [],
   "source": [
    "model_names = [\n",
    "    \"HuggingFaceTB/SmolLM-135M-Instruct\",\n",
    "    \"meta-llama/Llama-3.2-3B-Instruct\",\n",
    "    \"meta-llama/Llama-3.1-8B-Instruct\",\n",
    "]"
   ]
  },
  {
   "cell_type": "code",
   "execution_count": null,
   "metadata": {},
   "outputs": [],
   "source": [
    "model = None"
   ]
  },
  {
   "cell_type": "code",
   "execution_count": null,
   "metadata": {},
   "outputs": [],
   "source": [
    "df = pd.DataFrame(columns=[\"Model\", \"Component\", \"Parameters\", \"Memory (Bytes)\"])"
   ]
  },
  {
   "cell_type": "code",
   "execution_count": null,
   "metadata": {},
   "outputs": [],
   "source": [
    "for model_name in model_names:\n",
    "    del model\n",
    "    gc.collect()\n",
    "    torch.cuda.empty_cache()\n",
    "\n",
    "    model = AutoModelForCausalLM.from_pretrained(model_name, device_map=\"auto\")\n",
    "\n",
    "    add_custom_name_to_linear_layers(model)\n",
    "\n",
    "    include_list = {\n",
    "        \"Full_Model\": [model],\n",
    "        \"Self_Attention\": [\n",
    "            module\n",
    "            for name, module in model.named_modules()\n",
    "            if \"self_attn\" in getattr(module, \"custom_name\", \"\")\n",
    "        ],\n",
    "        \"MLP\": [\n",
    "            module\n",
    "            for name, module in model.named_modules()\n",
    "            if \"mlp\" in getattr(module, \"custom_name\", \"\")\n",
    "        ],\n",
    "        \"LM_Head\": [\n",
    "            module\n",
    "            for name, module in model.named_modules()\n",
    "            if \"lm_head\" in getattr(module, \"custom_name\", \"\")\n",
    "        ],\n",
    "    }\n",
    "\n",
    "    for name, include in include_list.items():\n",
    "        print(f\"Model: {model_name} - {name}\")\n",
    "        total_params = 0\n",
    "        total_memory = 0\n",
    "        for layer in include:\n",
    "            total_params += count_parameters(layer)\n",
    "            total_memory += get_memory_usage(layer)\n",
    "        print(f\"Total Parameters: {total_params}\")\n",
    "        print(f\"Total Memory: {total_memory / 1024 / 1024:.2f} MB\")\n",
    "\n",
    "        df = pd.concat(\n",
    "            [\n",
    "                df,\n",
    "                pd.DataFrame(\n",
    "                    [[model_name, name, total_params, total_memory]], columns=df.columns\n",
    "                ),\n",
    "            ]\n",
    "        )\n",
    "df.to_csv(\"model_memory_per_component.csv\", index=False)\n"
   ]
  }
 ],
 "metadata": {
  "kernelspec": {
   "display_name": "Python 3",
   "language": "python",
   "name": "python3"
  },
  "language_info": {
   "codemirror_mode": {
    "name": "ipython",
    "version": 3
   },
   "file_extension": ".py",
   "mimetype": "text/x-python",
   "name": "python",
   "nbconvert_exporter": "python",
   "pygments_lexer": "ipython3",
   "version": "3.10.15"
  }
 },
 "nbformat": 4,
 "nbformat_minor": 2
}
