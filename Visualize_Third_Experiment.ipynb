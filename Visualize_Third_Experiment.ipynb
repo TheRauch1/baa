{
 "cells": [
  {
   "cell_type": "code",
   "execution_count": null,
   "metadata": {},
   "outputs": [],
   "source": [
    "import json\n",
    "import matplotlib as mpl\n",
    "import matplotlib.pyplot as plt\n",
    "import os\n",
    "from pprint import pprint"
   ]
  },
  {
   "cell_type": "code",
   "execution_count": null,
   "metadata": {},
   "outputs": [],
   "source": [
    "# retrieve original model benchmarks\n",
    "folder_path_original_benchmarks = \"logs/third_experiment\"\n",
    "data = {}\n",
    "for filename in os.listdir(folder_path_original_benchmarks):\n",
    "    with open(os.path.join(folder_path_original_benchmarks, filename), \"r\") as f:\n",
    "        raw_data = json.load(f)\n",
    "        model_name = raw_data[\"model_name\"]\n",
    "        data[model_name] = {}\n",
    "        data[model_name][\"original_model_benchmarks\"] = raw_data[\"original_model_benchmarks\"]\n",
    "        data[model_name][\"quantized_model_benchmarks\"] = raw_data[\"quantized_model_benchmarks\"]"
   ]
  },
  {
   "cell_type": "markdown",
   "metadata": {},
   "source": [
    "## Average Bitwidth per Component"
   ]
  },
  {
   "cell_type": "code",
   "execution_count": null,
   "metadata": {},
   "outputs": [],
   "source": [
    "models_in_correct_order = [\n",
    "    \"HuggingFaceTB/SmolLM-135M-Instruct\",\n",
    "    \"meta-llama/Llama-3.2-3B-Instruct\",\n",
    "    \"meta-llama/Llama-3.1-8B-Instruct\",\n",
    "]\n",
    "\n",
    "fig, ax = plt.subplots(1, len(models_in_correct_order), figsize=(20, 5))\n",
    "# sort the models in the correct order\n",
    "data = {k: data[k] for k in models_in_correct_order}\n",
    "for i, (model_name, model_data) in enumerate(data.items()):\n",
    "    original_model_benchmarks = model_data[\"original_model_benchmarks\"][\"token_generation_stats\"]\n",
    "    quantized_model_benchmarks = model_data[\"quantized_model_benchmarks\"][\"token_generation_stats\"]\n",
    "\n",
    "    original_model_average_tokens_per_second = original_model_benchmarks[\n",
    "        \"average_tokens_per_second\"]\n",
    "    quantized_model_average_tokens_per_second = quantized_model_benchmarks[\n",
    "        \"average_tokens_per_second\"]\n",
    "\n",
    "    ax[i].bar(\n",
    "        [\"Original\", \"Quantized\"],\n",
    "        [original_model_average_tokens_per_second,\n",
    "            quantized_model_average_tokens_per_second],\n",
    "        color=[\"tab:blue\", \"tab:orange\"]\n",
    "    )\n",
    "    # label absolute values on first bar chart\n",
    "    ax[i].text(\n",
    "        0,\n",
    "        original_model_average_tokens_per_second,\n",
    "        f\"{original_model_average_tokens_per_second:.2f}\",\n",
    "        ha=\"center\",\n",
    "        va=\"bottom\",\n",
    "        color=\"black\",\n",
    "    )\n",
    "    # label performance difference on second bar chart with absolute values\n",
    "    performance_difference = quantized_model_average_tokens_per_second - \\\n",
    "        original_model_average_tokens_per_second\n",
    "    ax[i].text(\n",
    "        1,\n",
    "        quantized_model_average_tokens_per_second,\n",
    "        f\"{performance_difference:.2f}\",\n",
    "        ha=\"center\",\n",
    "        va=\"bottom\",\n",
    "        color=\"red\",\n",
    "    )\n",
    "    ax[i].set_title(model_name)\n",
    "    ax[i].set_ylabel(\"Tokens per second\")\n",
    "    ax[i].set_ylim(0, 1250)\n",
    "    # ax[i].grid(axis=\"y\")\n",
    "\n",
    "fig.savefig(\"visualizations/third_experiment_performance_comparison.png\")\n",
    "plt.show()"
   ]
  }
 ],
 "metadata": {
  "kernelspec": {
   "display_name": "Python 3",
   "language": "python",
   "name": "python3"
  },
  "language_info": {
   "codemirror_mode": {
    "name": "ipython",
    "version": 3
   },
   "file_extension": ".py",
   "mimetype": "text/x-python",
   "name": "python",
   "nbconvert_exporter": "python",
   "pygments_lexer": "ipython3",
   "version": "3.10.16"
  }
 },
 "nbformat": 4,
 "nbformat_minor": 2
}
