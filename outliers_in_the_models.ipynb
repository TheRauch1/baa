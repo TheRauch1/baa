{
 "cells": [
  {
   "cell_type": "code",
   "execution_count": null,
   "metadata": {},
   "outputs": [],
   "source": [
    "from dotenv import load_dotenv\n",
    "load_dotenv()"
   ]
  },
  {
   "cell_type": "code",
   "execution_count": null,
   "metadata": {},
   "outputs": [],
   "source": [
    "import torch\n",
    "import gc\n",
    "import matplotlib.pyplot as plt\n",
    "from transformers import AutoModelForCausalLM"
   ]
  },
  {
   "cell_type": "code",
   "execution_count": null,
   "metadata": {},
   "outputs": [],
   "source": [
    "models = [\n",
    "    \"HuggingFaceTB/SmolLM-135M-Instruct\",\n",
    "    \"meta-llama/Llama-3.2-3B-Instruct\",\n",
    "    \"meta-llama/Llama-3.1-8B-Instruct\",\n",
    "]\n"
   ]
  },
  {
   "cell_type": "code",
   "execution_count": null,
   "metadata": {},
   "outputs": [],
   "source": [
    "for model_name in models:\n",
    "    model = AutoModelForCausalLM.from_pretrained(model_name, device_map=\"auto\")\n",
    "    number_of_total_parameters = sum(p.numel() for p in model.parameters())\n",
    "    count_of_outliers = 0\n",
    "    for name, module in model.named_modules():\n",
    "        if isinstance(module, torch.nn.Linear):\n",
    "            try:\n",
    "                sorted_weights, _ = torch.sort(module.weight.data.view(-1))\n",
    "                k = int(0.25 * len(sorted_weights))\n",
    "                lower_quartile = sorted_weights[k]\n",
    "                upper_quartile = sorted_weights[-k]\n",
    "                iqr = upper_quartile - lower_quartile\n",
    "                lower_bound = lower_quartile - 1.5 * iqr\n",
    "                upper_bound = upper_quartile + 1.5 * iqr\n",
    "                outliers = module.weight.data[\n",
    "                    (module.weight.data < lower_bound)\n",
    "                    | (module.weight.data > upper_bound)\n",
    "                ]\n",
    "                count_of_outliers += len(outliers)\n",
    "            except:\n",
    "                print(name)\n",
    "\n",
    "    print(f\"{model_name}: Total number of outliers: {count_of_outliers}\")\n",
    "    print(f\"{model_name}: Total number of parameters: {number_of_total_parameters}\")\n",
    "    print(\n",
    "        f\"{model_name}: Percentage of outliers: {count_of_outliers / number_of_total_parameters * 100:.2f}%\"\n",
    "    )\n",
    "    del model\n",
    "    gc.collect()\n",
    "    torch.cuda.empty_cache()"
   ]
  }
 ],
 "metadata": {
  "kernelspec": {
   "display_name": "baa",
   "language": "python",
   "name": "python3"
  },
  "language_info": {
   "codemirror_mode": {
    "name": "ipython",
    "version": 3
   },
   "file_extension": ".py",
   "mimetype": "text/x-python",
   "name": "python",
   "nbconvert_exporter": "python",
   "pygments_lexer": "ipython3",
   "version": "3.10.15"
  }
 },
 "nbformat": 4,
 "nbformat_minor": 4
}
