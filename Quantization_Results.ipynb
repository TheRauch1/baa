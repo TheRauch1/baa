{
 "cells": [
  {
   "cell_type": "markdown",
   "metadata": {},
   "source": [
    "# Imports"
   ]
  },
  {
   "cell_type": "code",
   "execution_count": null,
   "metadata": {},
   "outputs": [],
   "source": [
    "from transformers import AutoTokenizer, AutoModelForCausalLM\n",
    "import matplotlib.pyplot as plt\n",
    "from baa import (\n",
    "    QuantizedLinearLayerWithActivation,\n",
    "    replace_linear_layer_with_activation,\n",
    "    register_linear_layer_forward_hook,\n",
    "    device_map,\n",
    "    get_hidden_states_input,\n",
    "    get_weights,\n",
    "    add_custom_name_to_linear_layers,\n",
    "    remove_all_hooks,\n",
    "    chat_with_model,\n",
    "    print_memory_usage,\n",
    "    AccuracyBenchmark,\n",
    ")\n",
    "from baa.singletons import hidden_states, names\n",
    "from datasets import load_dataset\n",
    "import torch\n",
    "from dotenv import load_dotenv\n",
    "\n",
    "load_dotenv()"
   ]
  },
  {
   "cell_type": "markdown",
   "metadata": {},
   "source": [
    "# Load Model"
   ]
  },
  {
   "cell_type": "code",
   "execution_count": null,
   "metadata": {},
   "outputs": [],
   "source": [
    "def reload_original_model():\n",
    "    global model\n",
    "    global tokenizer\n",
    "    global model_name\n",
    "    # model_name = \"HuggingFaceTB/SmolLM-135M\"\n",
    "    model_name = \"meta-llama/Llama-3.2-1B-Instruct\"\n",
    "    model = AutoModelForCausalLM.from_pretrained(model_name, device_map=\"cuda\")\n",
    "    tokenizer = AutoTokenizer.from_pretrained(model_name)\n",
    "\n",
    "\n",
    "reload_original_model()"
   ]
  },
  {
   "cell_type": "markdown",
   "metadata": {},
   "source": [
    "# Load Benchmark"
   ]
  },
  {
   "cell_type": "code",
   "execution_count": null,
   "metadata": {},
   "outputs": [],
   "source": [
    "dataset = load_dataset(\"wikitext\", \"wikitext-2-raw-v1\", split=\"test\")\n",
    "benchmark = AccuracyBenchmark(model, tokenizer, dataset)"
   ]
  },
  {
   "cell_type": "markdown",
   "metadata": {},
   "source": [
    "## Run Benchmark on Original Model"
   ]
  },
  {
   "cell_type": "code",
   "execution_count": null,
   "metadata": {},
   "outputs": [],
   "source": [
    "print(\"Original Model Accuracy:\", benchmark.evaluate(sample_size=200))"
   ]
  },
  {
   "cell_type": "code",
   "execution_count": null,
   "metadata": {},
   "outputs": [],
   "source": [
    "def plot_accuracies(bits, accuracies, title=\"Accuracy vs Bits\"):\n",
    "    plt.plot(bits, accuracies, \"o-\")\n",
    "    plt.xlabel(\"Bits\")\n",
    "    plt.xticks(bits)\n",
    "    plt.ylabel(\"Accuracy\")\n",
    "    plt.ylim(0, 1)  # Set y-axis limits from 0 to 1\n",
    "    plt.title(title)\n",
    "    plt.show()"
   ]
  },
  {
   "cell_type": "markdown",
   "metadata": {},
   "source": [
    "# Full Model Quantization"
   ]
  },
  {
   "cell_type": "code",
   "execution_count": null,
   "metadata": {},
   "outputs": [],
   "source": [
    "def quantize_full_model(bits: int, model=model):\n",
    "    add_custom_name_to_linear_layers(model)\n",
    "    replace_linear_layer_with_activation(\n",
    "        base_model=model,\n",
    "        quantizer_class=QuantizedLinearLayerWithActivation,\n",
    "        weight_bits=bits,\n",
    "        activation_bits=bits,\n",
    "        exclude_list=[],\n",
    "        quantized=True,\n",
    "    )\n",
    "    torch.cuda.empty_cache()\n",
    "\n",
    "\n",
    "bit_selection = [3, 4, 5, 6, 8][::-1]\n",
    "accuracies = []\n",
    "\n",
    "for bits in bit_selection:\n",
    "    reload_original_model()\n",
    "    quantize_full_model(bits, model)\n",
    "    benchmark.model = model\n",
    "    with torch.inference_mode():\n",
    "        accuracy = benchmark.evaluate(sample_size=200)\n",
    "        accuracies.append(accuracy)\n",
    "        print(\n",
    "            \"Quantized Model Accuracy with\",\n",
    "            bits,\n",
    "            \"bits:\",\n",
    "            accuracy,\n",
    "        )\n",
    "\n",
    "plot_accuracies(bit_selection, accuracies, title=\"Full Model Quantization\")"
   ]
  },
  {
   "cell_type": "markdown",
   "metadata": {},
   "source": [
    "# Quantize Attention Only"
   ]
  },
  {
   "cell_type": "code",
   "execution_count": null,
   "metadata": {},
   "outputs": [],
   "source": [
    "def quantize_attention(bits: int, model=model):\n",
    "    add_custom_name_to_linear_layers(model)\n",
    "    exclude_list = [name for name in names if \"self_attn\" not in name]\n",
    "    replace_linear_layer_with_activation(\n",
    "        base_model=model,\n",
    "        quantizer_class=QuantizedLinearLayerWithActivation,\n",
    "        weight_bits=bits,\n",
    "        activation_bits=bits,\n",
    "        exclude_list=exclude_list,\n",
    "        quantized=True,\n",
    "    )\n",
    "    torch.cuda.empty_cache()\n",
    "\n",
    "\n",
    "bit_selection = [3, 4, 5, 6, 8][::-1]\n",
    "accuracies = []\n",
    "\n",
    "for bits in bit_selection:\n",
    "    reload_original_model()\n",
    "    quantize_attention(bits, model)\n",
    "    benchmark.model = model\n",
    "    with torch.inference_mode():\n",
    "        accuracy = benchmark.evaluate(sample_size=200)\n",
    "        accuracies.append(accuracy)\n",
    "        print(\n",
    "            \"Quantized Model Accuracy with\",\n",
    "            bits,\n",
    "            \"bits:\",\n",
    "            accuracy,\n",
    "        )\n",
    "plot_accuracies(bit_selection, accuracies, title=\"Attention Quantization\")"
   ]
  },
  {
   "cell_type": "markdown",
   "metadata": {},
   "source": [
    "# Quantize MLP Only"
   ]
  },
  {
   "cell_type": "code",
   "execution_count": null,
   "metadata": {},
   "outputs": [],
   "source": [
    "def quantize_mlp(bits: int, model=model):\n",
    "    add_custom_name_to_linear_layers(model)\n",
    "    exclude_list = [name for name in names if \"mlp\" not in name]\n",
    "    replace_linear_layer_with_activation(\n",
    "        base_model=model,\n",
    "        quantizer_class=QuantizedLinearLayerWithActivation,\n",
    "        weight_bits=bits,\n",
    "        activation_bits=bits,\n",
    "        exclude_list=exclude_list,\n",
    "        quantized=True,\n",
    "    )\n",
    "    torch.cuda.empty_cache()\n",
    "\n",
    "\n",
    "bit_selection = [3, 4, 5, 6, 8][::-1]\n",
    "accuracies = []\n",
    "\n",
    "for bits in bit_selection:\n",
    "    reload_original_model()\n",
    "    quantize_mlp(bits, model)\n",
    "    benchmark.model = model\n",
    "    with torch.inference_mode():\n",
    "        accuracy = benchmark.evaluate(sample_size=200)\n",
    "        accuracies.append(accuracy)\n",
    "        print(\n",
    "            \"Quantized Model Accuracy with\",\n",
    "            bits,\n",
    "            \"bits:\",\n",
    "            accuracy,\n",
    "        )\n",
    "plot_accuracies(bit_selection, accuracies, title=\"MLP Quantization\")"
   ]
  },
  {
   "cell_type": "markdown",
   "metadata": {},
   "source": [
    "# Quantize LM Head Only"
   ]
  },
  {
   "cell_type": "code",
   "execution_count": null,
   "metadata": {},
   "outputs": [],
   "source": [
    "def quantize_lm_head(bits: int, model=model):\n",
    "    add_custom_name_to_linear_layers(model)\n",
    "    exclude_list = [name for name in names if \"lm_head\" not in name]\n",
    "    replace_linear_layer_with_activation(\n",
    "        base_model=model,\n",
    "        quantizer_class=QuantizedLinearLayerWithActivation,\n",
    "        weight_bits=bits,\n",
    "        activation_bits=bits,\n",
    "        exclude_list=exclude_list,\n",
    "        quantized=True,\n",
    "    )\n",
    "    torch.cuda.empty_cache()\n",
    "\n",
    "bit_selection = [3, 4, 5, 6, 8][::-1]\n",
    "accuracies = []\n",
    "\n",
    "for bits in bit_selection:\n",
    "    reload_original_model()\n",
    "    quantize_lm_head(bits, model)\n",
    "    benchmark.model = model\n",
    "    with torch.inference_mode():\n",
    "        accuracy = benchmark.evaluate(sample_size=200)\n",
    "        accuracies.append(accuracy)\n",
    "        print(\n",
    "            \"Quantized Model Accuracy with\",\n",
    "            bits,\n",
    "            \"bits:\",\n",
    "            accuracy,\n",
    "        )\n",
    "plot_accuracies(bit_selection, accuracies, title=\"LM Head Quantization\")"
   ]
  }
 ],
 "metadata": {
  "kernelspec": {
   "display_name": "Python 3",
   "language": "python",
   "name": "python3"
  },
  "language_info": {
   "codemirror_mode": {
    "name": "ipython",
    "version": 3
   },
   "file_extension": ".py",
   "mimetype": "text/x-python",
   "name": "python",
   "nbconvert_exporter": "python",
   "pygments_lexer": "ipython3",
   "version": "3.10.15"
  }
 },
 "nbformat": 4,
 "nbformat_minor": 2
}
