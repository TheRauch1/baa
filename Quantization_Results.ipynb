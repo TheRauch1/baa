{
 "cells": [
  {
   "cell_type": "markdown",
   "metadata": {},
   "source": [
    "# Imports"
   ]
  },
  {
   "cell_type": "code",
   "execution_count": 1,
   "metadata": {},
   "outputs": [
    {
     "data": {
      "text/plain": [
       "True"
      ]
     },
     "execution_count": 1,
     "metadata": {},
     "output_type": "execute_result"
    }
   ],
   "source": [
    "from transformers import AutoTokenizer, AutoModelForCausalLM\n",
    "import matplotlib.pyplot as plt\n",
    "from baa import (\n",
    "    QuantizedLinearLayerWithActivation,\n",
    "    replace_linear_layer_with_activation,\n",
    "    register_linear_layer_forward_hook,\n",
    "    device_map,\n",
    "    get_hidden_states_input,\n",
    "    get_weights,\n",
    "    add_custom_name_to_linear_layers,\n",
    "    remove_all_hooks,\n",
    "    chat_with_model,\n",
    "    print_memory_usage,\n",
    "    AccuracyBenchmark,\n",
    ")\n",
    "from baa.singletons import hidden_states, names\n",
    "from datasets import load_dataset\n",
    "import torch\n",
    "from dotenv import load_dotenv\n",
    "\n",
    "load_dotenv()"
   ]
  },
  {
   "cell_type": "markdown",
   "metadata": {},
   "source": [
    "# Load Model"
   ]
  },
  {
   "cell_type": "code",
   "execution_count": 2,
   "metadata": {},
   "outputs": [],
   "source": [
    "def reload_original_model():\n",
    "    global model\n",
    "    global tokenizer\n",
    "    global model_name\n",
    "    # model_name = \"HuggingFaceTB/SmolLM-135M\"\n",
    "    model_name = \"meta-llama/Llama-3.2-1B-Instruct\"\n",
    "    model = AutoModelForCausalLM.from_pretrained(model_name, device_map=\"auto\")\n",
    "    tokenizer = AutoTokenizer.from_pretrained(model_name)\n",
    "\n",
    "\n",
    "reload_original_model()"
   ]
  },
  {
   "cell_type": "markdown",
   "metadata": {},
   "source": [
    "# Load Benchmark"
   ]
  },
  {
   "cell_type": "code",
   "execution_count": 3,
   "metadata": {},
   "outputs": [],
   "source": [
    "dataset = load_dataset(\"wikitext\", \"wikitext-2-raw-v1\", split=\"test\")\n",
    "benchmark = AccuracyBenchmark(model, tokenizer, dataset)"
   ]
  },
  {
   "cell_type": "markdown",
   "metadata": {},
   "source": [
    "## Run Benchmark on Original Model"
   ]
  },
  {
   "cell_type": "code",
   "execution_count": 4,
   "metadata": {},
   "outputs": [
    {
     "name": "stderr",
     "output_type": "stream",
     "text": [
      "  0%|          | 0/24 [00:00<?, ?it/s]Starting from v4.46, the `logits` model output will have the same type as the model (except at train time, where it will always be FP32)\n",
      " 12%|█▎        | 3/24 [00:09<01:03,  3.04s/it]\n"
     ]
    },
    {
     "ename": "KeyboardInterrupt",
     "evalue": "",
     "output_type": "error",
     "traceback": [
      "\u001b[0;31m---------------------------------------------------------------------------\u001b[0m",
      "\u001b[0;31mKeyboardInterrupt\u001b[0m                         Traceback (most recent call last)",
      "Cell \u001b[0;32mIn[4], line 1\u001b[0m\n\u001b[0;32m----> 1\u001b[0m \u001b[38;5;28mprint\u001b[39m(\u001b[38;5;124m\"\u001b[39m\u001b[38;5;124mOriginal Model Accuracy:\u001b[39m\u001b[38;5;124m\"\u001b[39m, \u001b[43mbenchmark\u001b[49m\u001b[38;5;241;43m.\u001b[39;49m\u001b[43mevaluate\u001b[49m\u001b[43m(\u001b[49m\u001b[43msample_size\u001b[49m\u001b[38;5;241;43m=\u001b[39;49m\u001b[38;5;241;43m200\u001b[39;49m\u001b[43m)\u001b[49m)\n",
      "File \u001b[0;32m~/github_private/baa/baa/AccuracyBenchmark.py:49\u001b[0m, in \u001b[0;36mAccuracyBenchmark.evaluate\u001b[0;34m(self, max_length, stride, sample_size)\u001b[0m\n\u001b[1;32m     47\u001b[0m mask \u001b[38;5;241m=\u001b[39m labels \u001b[38;5;241m!=\u001b[39m \u001b[38;5;241m-\u001b[39m\u001b[38;5;241m100\u001b[39m\n\u001b[1;32m     48\u001b[0m correct \u001b[38;5;241m=\u001b[39m (predictions \u001b[38;5;241m==\u001b[39m labels) \u001b[38;5;241m&\u001b[39m mask\n\u001b[0;32m---> 49\u001b[0m total_correct \u001b[38;5;241m+\u001b[39m\u001b[38;5;241m=\u001b[39m \u001b[43mcorrect\u001b[49m\u001b[38;5;241;43m.\u001b[39;49m\u001b[43msum\u001b[49m\u001b[43m(\u001b[49m\u001b[43m)\u001b[49m\u001b[38;5;241;43m.\u001b[39;49m\u001b[43mitem\u001b[49m\u001b[43m(\u001b[49m\u001b[43m)\u001b[49m\n\u001b[1;32m     50\u001b[0m total_tokens \u001b[38;5;241m+\u001b[39m\u001b[38;5;241m=\u001b[39m mask\u001b[38;5;241m.\u001b[39msum()\u001b[38;5;241m.\u001b[39mitem()\n\u001b[1;32m     52\u001b[0m prev_end_idx \u001b[38;5;241m=\u001b[39m end_idx\n",
      "\u001b[0;31mKeyboardInterrupt\u001b[0m: "
     ]
    }
   ],
   "source": [
    "print(\"Original Model Accuracy:\", benchmark.evaluate(sample_size=200))"
   ]
  },
  {
   "cell_type": "code",
   "execution_count": 7,
   "metadata": {},
   "outputs": [],
   "source": [
    "def plot_accuracies(bits, accuracies, title=\"Accuracy vs Bits\"):\n",
    "    plt.plot(bits, accuracies, \"o-\")\n",
    "    plt.xlabel(\"Bits\")\n",
    "    plt.xticks(bits)\n",
    "    plt.ylabel(\"Accuracy\")\n",
    "    plt.ylim(0, 1)  # Set y-axis limits from 0 to 1\n",
    "    plt.title(title)\n",
    "    plt.show()"
   ]
  },
  {
   "cell_type": "markdown",
   "metadata": {},
   "source": [
    "# Full Model Quantization"
   ]
  },
  {
   "cell_type": "code",
   "execution_count": null,
   "metadata": {},
   "outputs": [],
   "source": [
    "def quantize_full_model(bits: int, model=model):\n",
    "    add_custom_name_to_linear_layers(model)\n",
    "    replace_linear_layer_with_activation(\n",
    "        base_model=model,\n",
    "        quantizer_class=QuantizedLinearLayerWithActivation,\n",
    "        weight_bits=bits,\n",
    "        activation_bits=bits,\n",
    "        exclude_list=[],\n",
    "        quantized=True,\n",
    "    )\n",
    "    torch.cuda.empty_cache()\n",
    "\n",
    "\n",
    "bit_selection = [2, 3, 4, 5, 6, 8][::-1]\n",
    "accuracies = []\n",
    "\n",
    "for bits in bit_selection:\n",
    "    reload_original_model()\n",
    "    quantize_full_model(bits, model)\n",
    "    benchmark.model = model\n",
    "    with torch.inference_mode():\n",
    "        accuracy = benchmark.evaluate(sample_size=200)\n",
    "        accuracies.append(accuracy)\n",
    "        print(\n",
    "            \"Quantized Model Accuracy with\",\n",
    "            bits,\n",
    "            \"bits:\",\n",
    "            accuracy,\n",
    "        )\n",
    "\n",
    "plot_accuracies(bit_selection, accuracies, title=\"Full Model Quantization\")"
   ]
  },
  {
   "cell_type": "markdown",
   "metadata": {},
   "source": [
    "# Quantize Attention Only"
   ]
  },
  {
   "cell_type": "code",
   "execution_count": null,
   "metadata": {},
   "outputs": [],
   "source": [
    "def quantize_attention(bits: int, model=model):\n",
    "    add_custom_name_to_linear_layers(model)\n",
    "    exclude_list = [name for name in names if \"self_attn\" not in name]\n",
    "    replace_linear_layer_with_activation(\n",
    "        base_model=model,\n",
    "        quantizer_class=QuantizedLinearLayerWithActivation,\n",
    "        weight_bits=bits,\n",
    "        activation_bits=bits,\n",
    "        exclude_list=exclude_list,\n",
    "        quantized=True,\n",
    "    )\n",
    "    torch.cuda.empty_cache()\n",
    "\n",
    "\n",
    "bit_selection = [2, 3, 4, 5, 6, 8][::-1]\n",
    "accuracies = []\n",
    "\n",
    "for bits in bit_selection:\n",
    "    reload_original_model()\n",
    "    quantize_attention(bits, model)\n",
    "    benchmark.model = model\n",
    "    with torch.inference_mode():\n",
    "        accuracy = benchmark.evaluate(sample_size=200)\n",
    "        accuracies.append(accuracy)\n",
    "        print(\n",
    "            \"Quantized Model Accuracy with\",\n",
    "            bits,\n",
    "            \"bits:\",\n",
    "            accuracy,\n",
    "        )\n",
    "plot_accuracies(bit_selection, accuracies, title=\"Attention Quantization\")"
   ]
  },
  {
   "cell_type": "markdown",
   "metadata": {},
   "source": [
    "# Quantize MLP Only"
   ]
  },
  {
   "cell_type": "code",
   "execution_count": null,
   "metadata": {},
   "outputs": [],
   "source": [
    "def quantize_mlp(bits: int, model=model):\n",
    "    add_custom_name_to_linear_layers(model)\n",
    "    exclude_list = [name for name in names if \"mlp\" not in name]\n",
    "    replace_linear_layer_with_activation(\n",
    "        base_model=model,\n",
    "        quantizer_class=QuantizedLinearLayerWithActivation,\n",
    "        weight_bits=bits,\n",
    "        activation_bits=bits,\n",
    "        exclude_list=exclude_list,\n",
    "        quantized=True,\n",
    "    )\n",
    "    torch.cuda.empty_cache()\n",
    "\n",
    "\n",
    "bit_selection = [2, 3, 4, 5, 6, 8][::-1]\n",
    "accuracies = []\n",
    "\n",
    "for bits in bit_selection:\n",
    "    reload_original_model()\n",
    "    quantize_mlp(bits, model)\n",
    "    benchmark.model = model\n",
    "    with torch.inference_mode():\n",
    "        accuracy = benchmark.evaluate(sample_size=200)\n",
    "        accuracies.append(accuracy)\n",
    "        print(\n",
    "            \"Quantized Model Accuracy with\",\n",
    "            bits,\n",
    "            \"bits:\",\n",
    "            accuracy,\n",
    "        )\n",
    "plot_accuracies(bit_selection, accuracies, title=\"MLP Quantization\")"
   ]
  },
  {
   "cell_type": "markdown",
   "metadata": {},
   "source": [
    "# Quantize LM Head Only"
   ]
  },
  {
   "cell_type": "code",
   "execution_count": null,
   "metadata": {},
   "outputs": [],
   "source": [
    "def quantize_lm_head(bits: int, model=model):\n",
    "    add_custom_name_to_linear_layers(model)\n",
    "    exclude_list = [name for name in names if \"lm_head\" not in name]\n",
    "    replace_linear_layer_with_activation(\n",
    "        base_model=model,\n",
    "        quantizer_class=QuantizedLinearLayerWithActivation,\n",
    "        weight_bits=bits,\n",
    "        activation_bits=bits,\n",
    "        exclude_list=exclude_list,\n",
    "        quantized=True,\n",
    "    )\n",
    "    torch.cuda.empty_cache()\n",
    "\n",
    "\n",
    "bit_selection = [2, 3, 4, 5, 6, 8][::-1]\n",
    "accuracies = []\n",
    "\n",
    "for bits in bit_selection:\n",
    "    reload_original_model()\n",
    "    quantize_lm_head(bits, model)\n",
    "    benchmark.model = model\n",
    "    with torch.inference_mode():\n",
    "        accuracy = benchmark.evaluate(sample_size=200)\n",
    "        accuracies.append(accuracy)\n",
    "        print(\n",
    "            \"Quantized Model Accuracy with\",\n",
    "            bits,\n",
    "            \"bits:\",\n",
    "            accuracy,\n",
    "        )\n",
    "plot_accuracies(bit_selection, accuracies, title=\"LM Head Quantization\")"
   ]
  }
 ],
 "metadata": {
  "kernelspec": {
   "display_name": "baa",
   "language": "python",
   "name": "python3"
  },
  "language_info": {
   "codemirror_mode": {
    "name": "ipython",
    "version": 3
   },
   "file_extension": ".py",
   "mimetype": "text/x-python",
   "name": "python",
   "nbconvert_exporter": "python",
   "pygments_lexer": "ipython3",
   "version": "3.10.15"
  }
 },
 "nbformat": 4,
 "nbformat_minor": 2
}
