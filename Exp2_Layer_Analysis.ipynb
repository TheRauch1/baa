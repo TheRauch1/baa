{
 "cells": [
  {
   "cell_type": "markdown",
   "metadata": {},
   "source": [
    "# Loading the 3B Model"
   ]
  },
  {
   "cell_type": "code",
   "execution_count": null,
   "metadata": {},
   "outputs": [],
   "source": [
    "from transformers import AutoModelForCausalLM\n",
    "import matplotlib as mpl\n",
    "import numpy as np\n",
    "from scipy.stats import norm\n",
    "from matplotlib.gridspec import GridSpec\n",
    "import matplotlib.pyplot as plt"
   ]
  },
  {
   "cell_type": "code",
   "execution_count": null,
   "metadata": {},
   "outputs": [],
   "source": [
    "# apply arial font, great font sizes, set dpi to 300\n",
    "mpl.rc(\"font\", size=16)\n",
    "mpl.rc(\"axes\", titlesize=16)\n",
    "mpl.rc(\"axes\", labelsize=16)\n",
    "mpl.rc(\"xtick\", labelsize=16)\n",
    "mpl.rc(\"ytick\", labelsize=16)\n",
    "mpl.rc(\"legend\", fontsize=14)\n",
    "mpl.rc(\"figure\", dpi=300)"
   ]
  },
  {
   "cell_type": "code",
   "execution_count": null,
   "metadata": {},
   "outputs": [],
   "source": [
    "model_name = \"HuggingFaceTB/SmolLM-135M-Instruct\"\n",
    "model = AutoModelForCausalLM.from_pretrained(model_name, device_map=\"auto\")"
   ]
  },
  {
   "cell_type": "code",
   "execution_count": null,
   "metadata": {},
   "outputs": [],
   "source": [
    "head_weights = model.lm_head\n",
    "np_head_weights = head_weights.weight.detach().cpu().numpy()"
   ]
  },
  {
   "cell_type": "code",
   "execution_count": null,
   "metadata": {},
   "outputs": [],
   "source": [
    "# Show distribution of weights in the head\n",
    "fig = plt.figure(figsize=(10, 5))\n",
    "ax = fig.add_subplot()\n",
    "\n",
    "ax.hist(np_head_weights.flatten(), bins=100, color=\"tab:blue\")\n",
    "ax.hist(\n",
    "    np_head_weights.flatten(), bins=100, color=\"tab:red\", histtype=\"step\", linewidth=5\n",
    ")\n",
    "values_at_99 = np.percentile(np_head_weights, 99)\n",
    "values_at_1 = np.percentile(np_head_weights, 1)\n",
    "ax.axvline(\n",
    "    values_at_99,\n",
    "    color=\"tab:green\",\n",
    "    linestyle=\"--\",\n",
    "    label=\"99th percentile\",\n",
    "    linewidth=2,\n",
    ")\n",
    "ax.axvline(\n",
    "    values_at_1, color=\"tab:orange\", linestyle=\"--\", label=\"1st percentile\", linewidth=2\n",
    ")\n",
    "# add text to min and max\n",
    "ax.text(np_head_weights.min(), 0, \"min\", ha=\"center\", va=\"bottom\")\n",
    "ax.text(np_head_weights.max(), 0, \"max\", ha=\"center\", va=\"bottom\")\n",
    "ax.set_xlabel(\"Weight value\")\n",
    "ax.set_ylabel(\"Frequency\")\n",
    "ax.legend()\n",
    "ax.set_title(\"Distribution of weights in lm_head for SmolLM-135M-Instruct\")\n",
    "plt.tight_layout()\n",
    "plt.savefig(\"visualizations/weight_distribution.png\")\n",
    "plt.show()"
   ]
  },
  {
   "cell_type": "code",
   "execution_count": null,
   "metadata": {},
   "outputs": [],
   "source": [
    "# create box plot of the same weights\n",
    "fig = plt.figure(figsize=(10, 5))\n",
    "ax = fig.add_subplot()\n",
    "ax.boxplot(np_head_weights.flatten(), vert=False)\n",
    "# # again display the 1st and 99th percentile\n",
    "# ax.axvline(\n",
    "#     values_at_99,\n",
    "#     color=\"tab:green\",\n",
    "#     linestyle=\"--\",\n",
    "#     label=\"99th percentile\",\n",
    "#     linewidth=2,\n",
    "# )\n",
    "# ax.axvline(\n",
    "#     values_at_1, color=\"tab:orange\", linestyle=\"--\", label=\"1st percentile\", linewidth=2\n",
    "# )\n",
    "# add text to median, 25th and 75th percentile, -1.5 and 1.5 IQR\n",
    "ax.text(\n",
    "    np.median(np_head_weights),\n",
    "    0.85,\n",
    "    \"median\",\n",
    "    ha=\"center\",\n",
    "    va=\"bottom\",\n",
    "    fontsize=10,\n",
    ")\n",
    "ax.text(\n",
    "    np.percentile(np_head_weights, 25)\n",
    "    - 1.5 * (np.percentile(np_head_weights, 75) - np.percentile(np_head_weights, 25)),\n",
    "    1.05,\n",
    "    \"-1.5 IQR\",\n",
    "    ha=\"center\",\n",
    "    va=\"bottom\",\n",
    "    fontsize=10,\n",
    ")\n",
    "ax.text(\n",
    "    np.percentile(np_head_weights, 75)\n",
    "    + 1.5 * (np.percentile(np_head_weights, 75) - np.percentile(np_head_weights, 25)),\n",
    "    1.05,\n",
    "    \"+1.5 IQR\",\n",
    "    ha=\"center\",\n",
    "    va=\"bottom\",\n",
    "    fontsize=10,\n",
    ")\n",
    "ax.set_xlabel(\"Weight value\")\n",
    "ax.set_title(\"Box plot of weights in lm_head for SmolLM-135M-Instruct\")\n",
    "ax.legend(loc=\"upper right\")\n",
    "plt.tight_layout()\n",
    "plt.savefig(\"visualizations/weight_boxplot.png\")\n",
    "plt.show()"
   ]
  }
 ],
 "metadata": {
  "kernelspec": {
   "display_name": "Python 3",
   "language": "python",
   "name": "python3"
  },
  "language_info": {
   "codemirror_mode": {
    "name": "ipython",
    "version": 3
   },
   "file_extension": ".py",
   "mimetype": "text/x-python",
   "name": "python",
   "nbconvert_exporter": "python",
   "pygments_lexer": "ipython3",
   "version": "3.10.15"
  }
 },
 "nbformat": 4,
 "nbformat_minor": 2
}
