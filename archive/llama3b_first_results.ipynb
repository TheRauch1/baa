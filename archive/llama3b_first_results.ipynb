{
 "cells": [
  {
   "cell_type": "code",
   "execution_count": null,
   "metadata": {},
   "outputs": [],
   "source": [
    "import json\n",
    "from matplotlib import pyplot as plt\n",
    "\n",
    "# read json from string\n",
    "data = json.loads(\n",
    "    '{\"Full Model Quantization\": [[8, 6, 5, 4, 3, 2], [0.5215200330441966, 0.5187938868236266, 0.5125980999586948, 0.4578273440726972, 0.060057827344072695, 0.0]], \"Self Attn Quantization\": [[8, 6, 5, 4, 3, 2], [0.5220983064849236, 0.5222635274679884, 0.521602643535729, 0.5084675753820735, 0.4483271375464684, 0.0]], \"MLP Quantization\": [[8, 6, 5, 4, 3, 2], [0.521602643535729, 0.5197026022304833, 0.5181330028913672, 0.49566294919454773, 0.1708384964890541, 0.005121850475010326]], \"LM Head Quantization\": [[8, 6, 5, 4, 3, 2], [0.5225939694341182, 0.5218504750103263, 0.5219330855018587, 0.512267657992565, 0.502519619991739, 0.20388269310202395]]}'\n",
    ")\n",
    "plot_data_dict = data\n",
    "# plot_data_dict.pop(\"Attention Blocks\")\n",
    "\n",
    "\n",
    "original_model_accuracy = 0.5226765799256505\n",
    "original_model_accuracy = round(original_model_accuracy, 2)\n",
    "\n",
    "\n",
    "def plot_final_data(bits=[2, 3, 4, 5, 6, 8][::-1]):\n",
    "    global plot_data_dict\n",
    "    labels = []\n",
    "    traces = []\n",
    "    labels.append(\"Original Model\")\n",
    "    plt.axhline(y=original_model_accuracy, color=\"purple\", linestyle=\"--\")\n",
    "    # display value of axhline slightly above the line\n",
    "    plt.text(2, original_model_accuracy + 0.01, original_model_accuracy, color=\"purple\")\n",
    "    for key, values in plot_data_dict.items():\n",
    "        bits, accuracies = values\n",
    "        labels.append(key)\n",
    "        traces.append((bits, accuracies))\n",
    "    for i in range(len(traces)):\n",
    "        plt.plot(traces[i][0], traces[i][1], \"o-\")\n",
    "    # add original model accuracy as dotted line\n",
    "    plt.xlabel(\"Bits\")\n",
    "    plt.xticks(bits)\n",
    "    plt.ylabel(\"Accuracy\")\n",
    "    plt.ylim(0, 1)  # Set y-axis limits from 0 to 1\n",
    "    plt.grid(True)\n",
    "    plt.title(\"Accuracy vs Bits - Llama 3.2 3B\")\n",
    "    plt.legend(labels)\n",
    "    plt.show()\n",
    "\n",
    "\n",
    "plot_final_data()"
   ]
  },
  {
   "cell_type": "code",
   "execution_count": null,
   "metadata": {},
   "outputs": [],
   "source": []
  }
 ],
 "metadata": {
  "kernelspec": {
   "display_name": "baa",
   "language": "python",
   "name": "python3"
  },
  "language_info": {
   "codemirror_mode": {
    "name": "ipython",
    "version": 3
   },
   "file_extension": ".py",
   "mimetype": "text/x-python",
   "name": "python",
   "nbconvert_exporter": "python",
   "pygments_lexer": "ipython3",
   "version": "3.10.15"
  }
 },
 "nbformat": 4,
 "nbformat_minor": 2
}
