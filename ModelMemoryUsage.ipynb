{
 "cells": [
  {
   "cell_type": "code",
   "execution_count": null,
   "metadata": {},
   "outputs": [],
   "source": [
    "from transformers import AutoModelForCausalLM, AutoTokenizer, BitsAndBytesConfig\n",
    "import torch\n",
    "from baa import PerplexityBenchmark, get_memory_usage\n",
    "from datasets import load_dataset\n",
    "import matplotlib as mpl\n",
    "import matplotlib.pyplot as plt"
   ]
  },
  {
   "cell_type": "code",
   "execution_count": null,
   "metadata": {},
   "outputs": [],
   "source": [
    "# model_name = \"HuggingFaceTB/SmolLM-135M-Instruct\"\n",
    "model_name = \"meta-llama/Llama-3.2-3B-Instruct\"\n",
    "# model_name = \"meta-llama/Llama-3.1-8B-Instruct\""
   ]
  },
  {
   "cell_type": "code",
   "execution_count": null,
   "metadata": {},
   "outputs": [],
   "source": [
    "model = AutoModelForCausalLM.from_pretrained(model_name, device_map=\"auto\")"
   ]
  },
  {
   "cell_type": "code",
   "execution_count": null,
   "metadata": {},
   "outputs": [],
   "source": [
    "print(model)"
   ]
  },
  {
   "cell_type": "code",
   "execution_count": null,
   "metadata": {},
   "outputs": [],
   "source": [
    "component_memory_usage = {\n",
    "    \"Full Model\": get_memory_usage(model.model) / 1024**2,\n",
    "    \"MLP\": get_memory_usage(model.model.layers[0].mlp)\n",
    "    / 1024**2\n",
    "    * len(model.model.layers),\n",
    "    \"Self Attention\": get_memory_usage(model.model.layers[0].self_attn)\n",
    "    / 1024**2\n",
    "    * len(model.model.layers),\n",
    "    \"Model Head\": get_memory_usage(model.lm_head) / 1024**2,\n",
    "    # \"Decoder Blocks\": get_memory_usage(model.model.layers[:]) / 1024**2,\n",
    "}\n",
    "\n",
    "for component, usage in component_memory_usage.items():\n",
    "    print(f\"{component}: {usage:.2f} MB\")"
   ]
  },
  {
   "cell_type": "code",
   "execution_count": null,
   "metadata": {},
   "outputs": [],
   "source": [
    "# apply arial font, great font sizes, set dpi to 300\n",
    "mpl.rc(\"font\", size=16)\n",
    "mpl.rc(\"axes\", titlesize=16)\n",
    "mpl.rc(\"axes\", labelsize=16)\n",
    "mpl.rc(\"xtick\", labelsize=16)\n",
    "mpl.rc(\"ytick\", labelsize=16)\n",
    "mpl.rc(\"legend\", fontsize=14)\n",
    "mpl.rc(\"figure\", dpi=300)"
   ]
  },
  {
   "cell_type": "code",
   "execution_count": null,
   "metadata": {},
   "outputs": [],
   "source": [
    "labels = []\n",
    "memory_usage = []\n",
    "\n",
    "for component, usage in component_memory_usage.items():\n",
    "    labels.append(component)\n",
    "    memory_usage.append(usage)\n",
    "\n",
    "# assert that embedding + attention heads + model head ~= full model\n",
    "assert sum(memory_usage[1:4]) - memory_usage[0] < 30 * 1024**2\n",
    "\n",
    "# Generate colors for each category (index-based)\n",
    "# cmap = matplotlib.colormaps[\"tab10\"]\n",
    "# colors = [cmap(i) for i in range(len(component_memory_usage))]\n",
    "colors = [\"tab:blue\", \"tab:green\", \"tab:red\", \"tab:orange\"]\n",
    "plt.figure(figsize=(10, 6))\n",
    "plt.bar(labels, memory_usage, color=colors)\n",
    "# show numbers on top of bars\n",
    "for i, usage in enumerate(memory_usage):\n",
    "    plt.text(i, usage, f\"{usage:.0f} MB\", ha=\"center\", va=\"bottom\", fontsize=14)\n",
    "plt.ylabel(\"Memory Usage (MB)\")\n",
    "plt.title(\"Memory Usage of Model Components - Llama 3.2 3B Instruct\", fontweight=\"bold\")\n",
    "plt.xticks(rotation=45)\n",
    "\n",
    "# save to visualizations folder\n",
    "plt.savefig(\"visualizations/memory_usage-llama3.2-3b-instruct.png\", bbox_inches=\"tight\")\n",
    "\n",
    "plt.show()"
   ]
  },
  {
   "cell_type": "code",
   "execution_count": null,
   "metadata": {},
   "outputs": [],
   "source": []
  }
 ],
 "metadata": {
  "kernelspec": {
   "display_name": "Python 3",
   "language": "python",
   "name": "python3"
  },
  "language_info": {
   "codemirror_mode": {
    "name": "ipython",
    "version": 3
   },
   "file_extension": ".py",
   "mimetype": "text/x-python",
   "name": "python",
   "nbconvert_exporter": "python",
   "pygments_lexer": "ipython3",
   "version": "3.10.15"
  }
 },
 "nbformat": 4,
 "nbformat_minor": 2
}
