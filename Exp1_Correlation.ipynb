{
 "cells": [
  {
   "cell_type": "markdown",
   "metadata": {},
   "source": [
    "## Preliminaris\n",
    "Run ParameterCountPerModelPerComponent.ipynb to generate the data for this notebook."
   ]
  },
  {
   "cell_type": "code",
   "execution_count": null,
   "metadata": {},
   "outputs": [],
   "source": [
    "import pandas as pd\n",
    "import numpy as np\n",
    "import os\n",
    "import json\n",
    "import matplotlib as mpl\n",
    "from matplotlib.gridspec import GridSpec\n",
    "import matplotlib.pyplot as plt\n",
    "import pprint"
   ]
  },
  {
   "cell_type": "code",
   "execution_count": null,
   "metadata": {},
   "outputs": [],
   "source": [
    "# apply arial font, great font sizes, set dpi to 300\n",
    "mpl.rc(\"font\", size=16)\n",
    "mpl.rc(\"axes\", titlesize=16)\n",
    "mpl.rc(\"axes\", labelsize=16)\n",
    "mpl.rc(\"xtick\", labelsize=16)\n",
    "mpl.rc(\"ytick\", labelsize=16)\n",
    "mpl.rc(\"legend\", fontsize=14)\n",
    "mpl.rc(\"figure\", dpi=300)"
   ]
  },
  {
   "cell_type": "markdown",
   "metadata": {},
   "source": [
    "### Get data from Experiment 1"
   ]
  },
  {
   "cell_type": "code",
   "execution_count": null,
   "metadata": {},
   "outputs": [],
   "source": [
    "# retrieve original model benchmarks\n",
    "folder_path_original_benchmarks = \"logs/original_model_benchmarks\"\n",
    "original_benchmarks = {}\n",
    "for filename in os.listdir(folder_path_original_benchmarks):\n",
    "    with open(os.path.join(folder_path_original_benchmarks, filename), \"r\") as f:\n",
    "        raw_data = json.load(f)\n",
    "        model_name = raw_data[\"model_name\"]\n",
    "        original_benchmarks[model_name] = raw_data[\"original_model_benchmarks\"]"
   ]
  },
  {
   "cell_type": "code",
   "execution_count": null,
   "metadata": {},
   "outputs": [],
   "source": [
    "def generate_data() -> dict:\n",
    "    data = {}\n",
    "    folder_path = \"logs/first_experiment\"\n",
    "    for filename in os.listdir(folder_path):\n",
    "        # Check if the file is a JSON file\n",
    "        if filename.endswith(\".json\"):\n",
    "            # Construct the full path of the file\n",
    "            file_path = os.path.join(folder_path, filename)\n",
    "\n",
    "            # Open and parse the JSON file\n",
    "            with open(file_path, \"r\") as file:\n",
    "                model_data = json.load(file)\n",
    "\n",
    "            # Store the parsed data in a dictionary using the filename as the key\n",
    "            model_name = model_data[\"model_name\"]\n",
    "            original_model_benchmark = original_benchmarks[model_name]\n",
    "            original_model_accuracy = original_model_benchmark[\"wikitext_accuracy\"]\n",
    "            include_component = model_data[\"include_component\"]\n",
    "            weight_bits = model_data[\"weight_bits\"]\n",
    "            quantized_model_benchmarks = model_data[\"quantized_model_benchmarks\"]\n",
    "            quantized_model_accuracy = quantized_model_benchmarks[\"wikitext_accuracy\"]\n",
    "            quantization_data = {\n",
    "                \"include_component\": include_component,\n",
    "                \"weight_bits\": weight_bits,\n",
    "                \"quantized_model_benchmarks\": quantized_model_benchmarks,\n",
    "                \"quantized_model_accuracy\": quantized_model_accuracy,\n",
    "            }\n",
    "            # If the model name does not exist in the dictionary, add it\n",
    "            if model_name not in data:\n",
    "                data[model_name] = {\n",
    "                    # \"original_model_accuracy\": original_model_accuracy,\n",
    "                }\n",
    "\n",
    "            if include_component not in data[model_name]:\n",
    "                data[model_name][include_component] = {}\n",
    "\n",
    "            # Add the quantization data to the dictionary\n",
    "            data[model_name][include_component][weight_bits] = quantization_data\n",
    "    return data\n",
    "\n",
    "\n",
    "exp_data = generate_data()\n",
    "pprint.pprint(exp_data)"
   ]
  },
  {
   "cell_type": "markdown",
   "metadata": {},
   "source": [
    "### Get parameter counts and memory per component from model_memory_per_component.csv"
   ]
  },
  {
   "cell_type": "code",
   "execution_count": null,
   "metadata": {},
   "outputs": [],
   "source": [
    "params_per_component = pd.read_csv(\"model_memory_per_component.csv\")\n",
    "params_per_component"
   ]
  },
  {
   "cell_type": "code",
   "execution_count": null,
   "metadata": {},
   "outputs": [],
   "source": [
    "correlation_per_model_wikitext = {}\n",
    "correlation_per_model_mmlu = {}\n",
    "\n",
    "for model_name, model_data in exp_data.items():\n",
    "    for include_component, component_data in model_data.items():\n",
    "        for weight_bits, data in component_data.items():\n",
    "            wikitext_accuracy = data[\"quantized_model_benchmarks\"][\"wikitext_accuracy\"]\n",
    "            mmlu_overall_accuracy = data[\"quantized_model_benchmarks\"][\"mmlu_results\"][\n",
    "                \"overall_score\"\n",
    "            ]\n",
    "\n",
    "            if model_name not in correlation_per_model_wikitext:\n",
    "                correlation_per_model_wikitext[model_name] = []\n",
    "            if model_name not in correlation_per_model_mmlu:\n",
    "                correlation_per_model_mmlu[model_name] = []\n",
    "\n",
    "            parameter_count = (\n",
    "                params_per_component.where(params_per_component[\"Model\"] == model_name)\n",
    "                .where(params_per_component[\"Component\"] == include_component)\n",
    "                .dropna()[\"Parameters\"]\n",
    "                .values[0]\n",
    "            )\n",
    "\n",
    "            correlation_per_model_wikitext[model_name].append(\n",
    "                (wikitext_accuracy, parameter_count)\n",
    "            )\n",
    "\n",
    "            correlation_per_model_mmlu[model_name].append(\n",
    "                (mmlu_overall_accuracy, parameter_count)\n",
    "            )\n",
    "\n",
    "print(correlation_per_model_wikitext)\n",
    "print(correlation_per_model_mmlu)"
   ]
  },
  {
   "cell_type": "markdown",
   "metadata": {},
   "source": [
    "## Show Pearson correlation between parameter count and memory per component"
   ]
  },
  {
   "cell_type": "code",
   "execution_count": null,
   "metadata": {},
   "outputs": [],
   "source": [
    "correlations = {}\n",
    "\n",
    "# print pearson correlation between parameter count and accuracy for each model\n",
    "for model_name, data in correlation_per_model_wikitext.items():\n",
    "    x = [d[0] for d in data]\n",
    "    y = [d[1] for d in data]\n",
    "    if model_name not in correlations:\n",
    "        correlations[model_name] = {}\n",
    "    correlations[model_name][\"wikitext\"] = pd.Series(x).corr(pd.Series(y))\n",
    "    print(f\"{model_name} wikitext_accuracy: {pd.Series(x).corr(pd.Series(y))}\")\n",
    "\n",
    "for model_name, data in correlation_per_model_mmlu.items():\n",
    "    x = [d[0] for d in data]\n",
    "    y = [d[1] for d in data]\n",
    "    if model_name not in correlations:\n",
    "        correlations[model_name] = {}\n",
    "    correlations[model_name][\"mmlu\"] = pd.Series(x).corr(pd.Series(y))\n",
    "    print(f\"{model_name} mmlu_accuracy: {pd.Series(x).corr(pd.Series(y))}\")\n",
    "\n",
    "# output as latex table\n",
    "print(\"Pearson correlation between parameter count and accuracy for each model\")\n",
    "print(\"\\\\begin{table}[H]\")\n",
    "print(\"\\\\centering\")\n",
    "print(\"\\\\begin{tabular}{|c|c|c|}\")\n",
    "print(\"\\\\hline\")\n",
    "print(\n",
    "    \"Model & Pearson Correlation Parameter vs. Wikitext Accuracy & Pearson Correlation Parameter vs. MMLU Accuracy \\\\\\\\\"\n",
    ")\n",
    "print(\"\\\\hline\")\n",
    "for model_name, data in correlations.items():\n",
    "    print(f\"{model_name} & {data['wikitext']:.2f} & {data['mmlu']:.2f} \\\\\\\\\")\n",
    "print(\"\\\\hline\")\n",
    "print(\"\\\\end{tabular}\")\n",
    "print(\"\\\\end{table}\")\n"
   ]
  },
  {
   "cell_type": "markdown",
   "metadata": {},
   "source": [
    "## Plot the data"
   ]
  },
  {
   "cell_type": "code",
   "execution_count": null,
   "metadata": {},
   "outputs": [],
   "source": [
    "# subplot the data using matplotlib\n",
    "colors = [\n",
    "    \"tab:blue\",\n",
    "    \"tab:orange\",\n",
    "    \"tab:green\",\n",
    "]\n",
    "\n",
    "fig = plt.figure(figsize=(16, 16))\n",
    "spec = GridSpec(2, 1, height_ratios=[1, 1], figure=fig)\n",
    "\n",
    "ax = [fig.add_subplot(spec[i, :]) for i in range(2)]\n",
    "\n",
    "for idx, (model_name, data) in enumerate(correlation_per_model_wikitext.items()):\n",
    "    y = [d[0] for d in data]\n",
    "    x = [d[1] for d in data]\n",
    "    ax[0].scatter(x, y, label=model_name, color=colors[idx % len(colors)])\n",
    "    # display correlation line\n",
    "    z = np.polyfit(x, y, 1)\n",
    "    p = np.poly1d(z)\n",
    "    ax[0].plot(\n",
    "        x,\n",
    "        p(x),\n",
    "        \"--\",\n",
    "        color=colors[idx % len(colors)],\n",
    "        label=f\"{model_name} (correlation: {pd.Series(x).corr(pd.Series(y)):.2f})\",\n",
    "    )\n",
    "    ax[0].set_ylabel(\"Wikitext Accuracy\")\n",
    "    ax[0].set_xlabel(\"Parameter Count\")\n",
    "    ax[0].set_title(\"Wikitext Accuracy vs. Parameter Count\", fontweight=\"bold\")\n",
    "    # set legend upper right\n",
    "    ax[0].legend(loc=\"upper right\")\n",
    "\n",
    "for idx, (model_name, data) in enumerate(correlation_per_model_mmlu.items()):\n",
    "    y = [d[0] for d in data]\n",
    "    x = [d[1] for d in data]\n",
    "    ax[1].scatter(x, y, label=model_name, color=colors[idx % len(colors)])\n",
    "    # display correlation line\n",
    "    z = np.polyfit(x, y, 1)\n",
    "    p = np.poly1d(z)\n",
    "    ax[1].plot(\n",
    "        x,\n",
    "        p(x),\n",
    "        \"--\",\n",
    "        color=colors[idx % len(colors)],\n",
    "        label=f\"{model_name} (correlation: {pd.Series(x).corr(pd.Series(y)):.2f})\",\n",
    "    )\n",
    "    ax[1].set_ylabel(\"MMLU Accuracy\")\n",
    "    ax[1].set_xlabel(\"Parameter Count\")\n",
    "    ax[1].set_title(\"MMLU Accuracy vs. Parameter Count\", fontweight=\"bold\")\n",
    "    # set legend upper right\n",
    "    ax[1].legend(loc=\"upper right\")\n",
    "\n",
    "plt.tight_layout()\n",
    "plt.savefig(\"visualizations/parameter_count_vs_accuracy.png\")\n",
    "plt.show()"
   ]
  }
 ],
 "metadata": {
  "kernelspec": {
   "display_name": "Python 3",
   "language": "python",
   "name": "python3"
  },
  "language_info": {
   "codemirror_mode": {
    "name": "ipython",
    "version": 3
   },
   "file_extension": ".py",
   "mimetype": "text/x-python",
   "name": "python",
   "nbconvert_exporter": "python",
   "pygments_lexer": "ipython3",
   "version": "3.10.15"
  }
 },
 "nbformat": 4,
 "nbformat_minor": 2
}
