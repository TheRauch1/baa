{
 "cells": [
  {
   "cell_type": "code",
   "execution_count": null,
   "metadata": {},
   "outputs": [],
   "source": [
    "from transformers import AutoTokenizer, AutoModelForCausalLM\n",
    "from baa import (\n",
    "    QuantizedLinearLayerWithActivation,\n",
    "    replace_linear_layer_with_activation,\n",
    "    register_linear_layer_forward_hook,\n",
    "    device_map,\n",
    "    get_hidden_states_input,\n",
    "    get_weights,\n",
    "    add_custom_name_to_linear_layers,\n",
    "    remove_all_hooks,\n",
    "    chat_with_model,\n",
    "    print_memory_usage,\n",
    "    AccuracyBenchmark,\n",
    ")\n",
    "from baa.singletons import hidden_states, names\n",
    "from datasets import load_dataset\n",
    "import torch\n",
    "from dotenv import load_dotenv\n",
    "\n",
    "load_dotenv()"
   ]
  },
  {
   "cell_type": "code",
   "execution_count": null,
   "metadata": {},
   "outputs": [],
   "source": [
    "# model_name = \"meta-llama/Llama-3.2-3B-Instruct\"\n",
    "model_name = \"HuggingFaceTB/SmolLM-135M\"\n",
    "model = AutoModelForCausalLM.from_pretrained(model_name, device_map=device_map)\n",
    "tokenizer = AutoTokenizer.from_pretrained(model_name)"
   ]
  },
  {
   "cell_type": "code",
   "execution_count": null,
   "metadata": {},
   "outputs": [],
   "source": [
    "model"
   ]
  },
  {
   "cell_type": "code",
   "execution_count": null,
   "metadata": {},
   "outputs": [],
   "source": [
    "# response = chat_with_model(model, tokenizer, \"Hi there how are you?\")"
   ]
  },
  {
   "cell_type": "code",
   "execution_count": null,
   "metadata": {},
   "outputs": [],
   "source": [
    "dataset = load_dataset(\"wikitext\", \"wikitext-2-raw-v1\", split=\"test\")\n",
    "benchmark = AccuracyBenchmark(model, tokenizer, dataset)"
   ]
  },
  {
   "cell_type": "code",
   "execution_count": null,
   "metadata": {},
   "outputs": [],
   "source": [
    "with torch.inference_mode():\n",
    "    # register_linear_layer_forward_hook(model, get_hidden_states_input)\n",
    "    print(\"Original model accuracy:\", benchmark.evaluate(sample_size=200))\n",
    "    # print(hidden_states)\n",
    "    layers = []\n",
    "    # add elemnt of names to string if element is not in string \"mlp\"\n",
    "    add_custom_name_to_linear_layers(model)\n",
    "    exclude_list = [name for name in names if \"mlp\" not in name]\n",
    "    print(\"exclude_list:\", exclude_list)\n",
    "    print(\n",
    "        f\"hidden_states is empty: {not bool(hidden_states)}\"\n",
    "    )  # empty dicts resolve to False\n",
    "    replace_linear_layer_with_activation(\n",
    "        base_model=model,\n",
    "        quantizer_class=QuantizedLinearLayerWithActivation,\n",
    "        weight_bits=4,\n",
    "        activation_bits=4,\n",
    "        exclude_list=exclude_list,\n",
    "        quantized=True,\n",
    "    )\n",
    "    remove_all_hooks(model)\n",
    "\n",
    "    torch.cuda.empty_cache()"
   ]
  },
  {
   "cell_type": "code",
   "execution_count": null,
   "metadata": {},
   "outputs": [],
   "source": [
    "model"
   ]
  },
  {
   "cell_type": "code",
   "execution_count": null,
   "metadata": {},
   "outputs": [],
   "source": [
    "with torch.inference_mode():\n",
    "    print(\"Quantized model accuracy:\", benchmark.evaluate(sample_size=200))\n"
   ]
  },
  {
   "cell_type": "code",
   "execution_count": null,
   "metadata": {},
   "outputs": [],
   "source": [
    "response = chat_with_model(model, tokenizer, \"Hi there how are you?\")"
   ]
  },
  {
   "cell_type": "code",
   "execution_count": null,
   "metadata": {},
   "outputs": [],
   "source": [
    "print(model.model.layers[0].self_attn.k_proj.weight.max())\n",
    "print(model.model.layers[0].self_attn.k_proj.weight.min())"
   ]
  }
 ],
 "metadata": {
  "kernelspec": {
   "display_name": "baa",
   "language": "python",
   "name": "python3"
  },
  "language_info": {
   "codemirror_mode": {
    "name": "ipython",
    "version": 3
   },
   "file_extension": ".py",
   "mimetype": "text/x-python",
   "name": "python",
   "nbconvert_exporter": "python",
   "pygments_lexer": "ipython3",
   "version": "3.10.15"
  }
 },
 "nbformat": 4,
 "nbformat_minor": 4
}
