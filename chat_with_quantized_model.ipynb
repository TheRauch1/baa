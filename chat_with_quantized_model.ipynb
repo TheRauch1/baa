{
 "cells": [
  {
   "cell_type": "code",
   "execution_count": null,
   "metadata": {},
   "outputs": [],
   "source": [
    "from transformers import AutoTokenizer, AutoModelForCausalLM\n",
    "from baa import (\n",
    "    QuantizedLinearLayerWithActivation,\n",
    "    replace_linear_layer_with_activation,\n",
    "    register_linear_layer_forward_hook,\n",
    "    device_map,\n",
    "    get_hidden_states_input,\n",
    "    remove_all_hooks,\n",
    "    chat_with_model,\n",
    "    AccuracyBenchmark,\n",
    ")\n",
    "from baa.singletons import hidden_states\n",
    "from datasets import load_dataset\n",
    "import torch"
   ]
  },
  {
   "cell_type": "code",
   "execution_count": null,
   "metadata": {},
   "outputs": [],
   "source": [
    "model_name = \"meta-llama/Llama-3.2-1B-Instruct\"\n",
    "model = AutoModelForCausalLM.from_pretrained(model_name, device_map=device_map)\n",
    "tokenizer = AutoTokenizer.from_pretrained(model_name)"
   ]
  },
  {
   "cell_type": "code",
   "execution_count": null,
   "metadata": {},
   "outputs": [],
   "source": [
    "response = chat_with_model(model, tokenizer, \"Hi there how are you?\")"
   ]
  },
  {
   "cell_type": "code",
   "execution_count": null,
   "metadata": {},
   "outputs": [],
   "source": [
    "dataset = load_dataset(\"wikitext\", \"wikitext-2-raw-v1\", split=\"test\")\n",
    "benchmark = AccuracyBenchmark(model, tokenizer, dataset)"
   ]
  },
  {
   "cell_type": "code",
   "execution_count": null,
   "metadata": {},
   "outputs": [],
   "source": [
    "with torch.no_grad():\n",
    "    register_linear_layer_forward_hook(model, get_hidden_states_input)\n",
    "    print(\"Original model accuracy:\", benchmark.evaluate(sample_size=200))\n",
    "    print(hidden_states)\n",
    "\n",
    "    replace_linear_layer_with_activation(\n",
    "        base_model=model,\n",
    "        quantizer_class=QuantizedLinearLayerWithActivation,\n",
    "        # hidden_states=hidden_states,\n",
    "        exclude_list=[],\n",
    "        quantized=True,\n",
    "    )\n",
    "    remove_all_hooks(model)\n",
    "\n",
    "    torch.cuda.empty_cache()\n",
    "    print(\"Quantized model accuracy:\", benchmark.evaluate(sample_size=200))\n"
   ]
  },
  {
   "cell_type": "code",
   "execution_count": null,
   "metadata": {},
   "outputs": [],
   "source": [
    "response = chat_with_model(model, tokenizer, \"Hi there how are you?\")"
   ]
  }
 ],
 "metadata": {
  "kernelspec": {
   "display_name": "Python 3",
   "language": "python",
   "name": "python3"
  },
  "language_info": {
   "codemirror_mode": {
    "name": "ipython",
    "version": 3
   },
   "file_extension": ".py",
   "mimetype": "text/x-python",
   "name": "python",
   "nbconvert_exporter": "python",
   "pygments_lexer": "ipython3",
   "version": "3.10.15"
  }
 },
 "nbformat": 4,
 "nbformat_minor": 2
}
