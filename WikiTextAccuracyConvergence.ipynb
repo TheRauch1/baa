{
 "cells": [
  {
   "cell_type": "code",
   "execution_count": null,
   "metadata": {},
   "outputs": [],
   "source": [
    "import transformers\n",
    "from transformers import AutoModelForCausalLM, AutoTokenizer\n",
    "from datasets import load_dataset\n",
    "import torch\n",
    "from torch.utils.data import DataLoader, TensorDataset\n",
    "from tqdm import tqdm\n",
    "import matplotlib as mpl\n",
    "import matplotlib.pyplot as plt\n",
    "\n",
    "transformers.set_seed(42)"
   ]
  },
  {
   "cell_type": "code",
   "execution_count": null,
   "metadata": {},
   "outputs": [],
   "source": [
    "# apply arial font, great font sizes, set dpi to 300\n",
    "mpl.rc('font', size=16)\n",
    "mpl.rc('axes', titlesize=16)\n",
    "mpl.rc('axes', labelsize=16)\n",
    "mpl.rc('xtick', labelsize=16)\n",
    "mpl.rc('ytick', labelsize=16)\n",
    "mpl.rc('legend', fontsize=14)\n",
    "mpl.rc('figure', dpi=300)"
   ]
  },
  {
   "cell_type": "code",
   "execution_count": null,
   "metadata": {},
   "outputs": [],
   "source": [
    "model_name = \"HuggingFaceTB/SmolLM-135M-Instruct\"\n",
    "model = AutoModelForCausalLM.from_pretrained(model_name, device_map=\"auto\")\n",
    "tokenizer = AutoTokenizer.from_pretrained(model_name)"
   ]
  },
  {
   "cell_type": "code",
   "execution_count": null,
   "metadata": {},
   "outputs": [],
   "source": [
    "num_samples = 800\n",
    "sequence_length = 512\n",
    "batch_size = 1"
   ]
  },
  {
   "cell_type": "code",
   "execution_count": null,
   "metadata": {},
   "outputs": [],
   "source": [
    "dataset = load_dataset(\n",
    "    \"wikitext\",\n",
    "    \"wikitext-2-v1\",\n",
    "    split=\"test\",\n",
    "    revision=\"b08601e04326c79dfdd32d625aee71d232d685c3\",\n",
    ")"
   ]
  },
  {
   "cell_type": "code",
   "execution_count": null,
   "metadata": {},
   "outputs": [],
   "source": [
    "texts = dataset[\"text\"][: num_samples]\n",
    "# Tokenize and chunk the texts into sequences of the specified length\n",
    "encodings = tokenizer(\"\\n\\n\".join(texts), return_tensors=\"pt\")\n",
    "input_ids = encodings[\"input_ids\"][0]\n",
    "total_length = input_ids.size(0)\n",
    "num_sequences = total_length // sequence_length\n",
    "input_ids = input_ids[: num_sequences * sequence_length]\n",
    "input_ids = input_ids.view(num_sequences, sequence_length)\n",
    "input_ids = input_ids\n",
    "\n",
    "dataset = TensorDataset(input_ids)\n",
    "dataloader = DataLoader(dataset, batch_size=batch_size)\n",
    "averages = []\n",
    "correct = 0\n",
    "total = 0\n",
    "with torch.no_grad():\n",
    "    for batch in tqdm(dataloader):\n",
    "        try:\n",
    "            input_ids = batch[0].to(model.device)\n",
    "        except:\n",
    "            input_ids = batch[0]\n",
    "        # Prepare inputs and labels by shifting the input_ids\n",
    "        inputs = input_ids[:, :-1]\n",
    "        labels = input_ids[:, 1:]\n",
    "        outputs = model(inputs)\n",
    "        logits = (\n",
    "            outputs.logits\n",
    "        )  # shape: (batch_size, seq_length - 1, vocab_size)\n",
    "        predictions = torch.argmax(logits, dim=-1)\n",
    "        # Compare predictions with labels\n",
    "        correct += (predictions == labels).sum().item()\n",
    "        total += labels.numel()\n",
    "        averages.append(correct / total)"
   ]
  },
  {
   "cell_type": "code",
   "execution_count": null,
   "metadata": {},
   "outputs": [],
   "source": [
    "print(len(averages))"
   ]
  },
  {
   "cell_type": "code",
   "execution_count": null,
   "metadata": {},
   "outputs": [],
   "source": [
    "\n",
    "fig = plt.figure()\n",
    "plt.plot(averages)\n",
    "# add overall accuracy\n",
    "plt.axhline(correct / total, color=\"red\", linestyle=\"--\")\n",
    "# add vertical line at x=45 to showcase the 300 sample mark\n",
    "plt.axvline(45, color=\"green\", linestyle=\"--\")\n",
    "plt.grid()\n",
    "plt.xlabel(\"Batch\")\n",
    "plt.ylabel(\"Accuracy\")\n",
    "plt.legend([\"Token Prediction Accuracy\",\n",
    "           \"Averaged Accuracies\", \"300 Sample Mark\"])\n",
    "plt.title(\"Token Prediction Accuracy on WikiText with SmolLM-135M-Instruct\")\n",
    "plt.tight_layout()\n",
    "plt.savefig(\"visualizations/300_sample_convergence_wikitext.png\",\n",
    "            bbox_inches=\"tight\")"
   ]
  }
 ],
 "metadata": {
  "kernelspec": {
   "display_name": "Python 3",
   "language": "python",
   "name": "python3"
  },
  "language_info": {
   "codemirror_mode": {
    "name": "ipython",
    "version": 3
   },
   "file_extension": ".py",
   "mimetype": "text/x-python",
   "name": "python",
   "nbconvert_exporter": "python",
   "pygments_lexer": "ipython3",
   "version": "3.10.16"
  }
 },
 "nbformat": 4,
 "nbformat_minor": 2
}
