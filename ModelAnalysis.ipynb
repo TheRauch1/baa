{
 "cells": [
  {
   "cell_type": "code",
   "execution_count": 1,
   "metadata": {},
   "outputs": [],
   "source": [
    "from transformers import AutoModelForCausalLM, AutoTokenizer, BitsAndBytesConfig\n",
    "import torch\n",
    "from baa import PerplexityBenchmark, get_memory_usage\n",
    "from datasets import load_dataset"
   ]
  },
  {
   "cell_type": "code",
   "execution_count": 2,
   "metadata": {},
   "outputs": [],
   "source": [
    "# model_name = \"HuggingFaceTB/SmolLM-135M-Instruct\"\n",
    "model_name = \"meta-llama/Llama-3.2-3B-Instruct\"\n",
    "# model_name = \"meta-llama/Llama-3.1-8B-Instruct\"\n",
    "# model_name = \"google/gemma-2b-it\"\n",
    "bnb_config = BitsAndBytesConfig(\n",
    "    load_in_4bit=True,\n",
    "    bnb_4bit_use_double_quant=True,\n",
    "    bnb_4bit_quant_type=\"nf4\",\n",
    "    bnb_4bit_compute_dtype=torch.bfloat16,\n",
    ")"
   ]
  },
  {
   "cell_type": "code",
   "execution_count": 3,
   "metadata": {},
   "outputs": [
    {
     "data": {
      "application/vnd.jupyter.widget-view+json": {
       "model_id": "c1acf48d301b496a8af65f1dbc28962b",
       "version_major": 2,
       "version_minor": 0
      },
      "text/plain": [
       "Loading checkpoint shards:   0%|          | 0/2 [00:00<?, ?it/s]"
      ]
     },
     "metadata": {},
     "output_type": "display_data"
    },
    {
     "name": "stderr",
     "output_type": "stream",
     "text": [
      "Some parameters are on the meta device because they were offloaded to the disk.\n"
     ]
    }
   ],
   "source": [
    "model = AutoModelForCausalLM.from_pretrained(model_name, device_map=\"auto\")\n",
    "# quantized_model = AutoModelForCausalLM.from_pretrained(\n",
    "#     model_name,\n",
    "#     quantization_config=bnb_config,\n",
    "#     device_map=device_map,\n",
    "# )\n",
    "# franken_model = AutoModelForCausalLM.from_pretrained(\n",
    "#     model_name,\n",
    "#     device_map=device_map,\n",
    "# )\n",
    "tokenizer = AutoTokenizer.from_pretrained(model_name)"
   ]
  },
  {
   "cell_type": "code",
   "execution_count": 5,
   "metadata": {},
   "outputs": [
    {
     "name": "stdout",
     "output_type": "stream",
     "text": [
      "LlamaForCausalLM(\n",
      "  (model): LlamaModel(\n",
      "    (embed_tokens): Embedding(128256, 3072)\n",
      "    (layers): ModuleList(\n",
      "      (0-27): 28 x LlamaDecoderLayer(\n",
      "        (self_attn): LlamaSdpaAttention(\n",
      "          (q_proj): Linear(in_features=3072, out_features=3072, bias=False)\n",
      "          (k_proj): Linear(in_features=3072, out_features=1024, bias=False)\n",
      "          (v_proj): Linear(in_features=3072, out_features=1024, bias=False)\n",
      "          (o_proj): Linear(in_features=3072, out_features=3072, bias=False)\n",
      "          (rotary_emb): LlamaRotaryEmbedding()\n",
      "        )\n",
      "        (mlp): LlamaMLP(\n",
      "          (gate_proj): Linear(in_features=3072, out_features=8192, bias=False)\n",
      "          (up_proj): Linear(in_features=3072, out_features=8192, bias=False)\n",
      "          (down_proj): Linear(in_features=8192, out_features=3072, bias=False)\n",
      "          (act_fn): SiLU()\n",
      "        )\n",
      "        (input_layernorm): LlamaRMSNorm((3072,), eps=1e-05)\n",
      "        (post_attention_layernorm): LlamaRMSNorm((3072,), eps=1e-05)\n",
      "      )\n",
      "    )\n",
      "    (norm): LlamaRMSNorm((3072,), eps=1e-05)\n",
      "    (rotary_emb): LlamaRotaryEmbedding()\n",
      "  )\n",
      "  (lm_head): Linear(in_features=3072, out_features=128256, bias=False)\n",
      ")\n"
     ]
    }
   ],
   "source": [
    "print(model)"
   ]
  },
  {
   "cell_type": "code",
   "execution_count": null,
   "metadata": {},
   "outputs": [],
   "source": [
    "component_memory_usage = {\n",
    "    \"Full Model\": get_memory_usage(model.model) / 1024**2,\n",
    "    \"MLP\": get_memory_usage(model.model.layers[0].mlp)\n",
    "    / 1024**2\n",
    "    * len(model.model.layers),\n",
    "    \"Self Attention\": get_memory_usage(model.model.layers[0].self_attn)\n",
    "    / 1024**2\n",
    "    * len(model.model.layers),\n",
    "    \"Model Head\": get_memory_usage(model.lm_head) / 1024**2,\n",
    "    # \"Decoder Blocks\": get_memory_usage(model.model.layers[:]) / 1024**2,\n",
    "}\n",
    "\n",
    "for component, usage in component_memory_usage.items():\n",
    "    print(f\"{component}: {usage:.2f} MB\")"
   ]
  },
  {
   "cell_type": "code",
   "execution_count": null,
   "metadata": {},
   "outputs": [],
   "source": [
    "import matplotlib.pyplot as plt\n",
    "\n",
    "labels = []\n",
    "memory_usage = []\n",
    "\n",
    "for component, usage in component_memory_usage.items():\n",
    "    labels.append(component)\n",
    "    memory_usage.append(usage)\n",
    "\n",
    "# assert that embedding + attention heads + model head ~= full model\n",
    "assert sum(memory_usage[1:4]) - memory_usage[0] < 30 * 1024**2\n",
    "\n",
    "# Plotting the histogram\n",
    "plt.figure(figsize=(10, 6))\n",
    "plt.bar(labels, memory_usage, color=[\"blue\", \"green\", \"orange\", \"red\"])\n",
    "plt.ylabel(\"Memory Usage (MB)\")\n",
    "plt.title(\"Memory Usage of Model Components - Llama 3.2 3B\")\n",
    "plt.xticks(rotation=45)\n",
    "# make the two last bars purple\n",
    "# plt.bar(labels[3:], memory_usage[3:], color=\"purple\")\n",
    "# add two lines from attention heads to  selft attention and mlp\n",
    "# plt.plot(\n",
    "#     [labels[2], labels[3]],\n",
    "#     [memory_usage[2], memory_usage[3]],\n",
    "#     color=\"black\",\n",
    "#     linestyle=\"--\",\n",
    "# )\n",
    "# plt.plot(\n",
    "#     [labels[2], labels[4]],\n",
    "#     [memory_usage[2], memory_usage[4]],\n",
    "#     color=\"black\",\n",
    "#     linestyle=\"--\",\n",
    "# )\n",
    "# # add lines from full model to embedding, model head and attention heads\n",
    "# plt.plot(\n",
    "#     [labels[0], labels[1]],\n",
    "#     [memory_usage[0], memory_usage[1]],\n",
    "#     color=\"black\",\n",
    "#     linestyle=\"--\",\n",
    "# )\n",
    "# plt.plot(\n",
    "#     [labels[0], labels[2]],\n",
    "#     [memory_usage[0], memory_usage[2]],\n",
    "#     color=\"black\",\n",
    "#     linestyle=\"--\",\n",
    "# )\n",
    "plt.show()"
   ]
  },
  {
   "cell_type": "code",
   "execution_count": null,
   "metadata": {},
   "outputs": [],
   "source": []
  }
 ],
 "metadata": {
  "kernelspec": {
   "display_name": "baa",
   "language": "python",
   "name": "python3"
  },
  "language_info": {
   "codemirror_mode": {
    "name": "ipython",
    "version": 3
   },
   "file_extension": ".py",
   "mimetype": "text/x-python",
   "name": "python",
   "nbconvert_exporter": "python",
   "pygments_lexer": "ipython3",
   "version": "3.10.15"
  }
 },
 "nbformat": 4,
 "nbformat_minor": 2
}
