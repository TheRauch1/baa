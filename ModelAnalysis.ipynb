{
 "cells": [
  {
   "cell_type": "code",
   "execution_count": null,
   "metadata": {},
   "outputs": [],
   "source": [
    "from transformers import AutoModelForCausalLM, AutoTokenizer, BitsAndBytesConfig\n",
    "import torch\n",
    "from baa import PerplexityBenchmark, get_llm_memory_usage, device_map\n",
    "from datasets import load_dataset"
   ]
  },
  {
   "cell_type": "code",
   "execution_count": null,
   "metadata": {},
   "outputs": [],
   "source": [
    "model_name = \"HuggingFaceTB/SmolLM-135M-Instruct\"\n",
    "# model_name = \"google/gemma-2b-it\"\n",
    "bnb_config = BitsAndBytesConfig(\n",
    "    load_in_4bit=True,\n",
    "    bnb_4bit_use_double_quant=True,\n",
    "    bnb_4bit_quant_type=\"nf4\",\n",
    "    bnb_4bit_compute_dtype=torch.bfloat16,\n",
    ")"
   ]
  },
  {
   "cell_type": "code",
   "execution_count": null,
   "metadata": {},
   "outputs": [],
   "source": [
    "model = AutoModelForCausalLM.from_pretrained(model_name, device_map=device_map)\n",
    "quantized_model = AutoModelForCausalLM.from_pretrained(\n",
    "    model_name,\n",
    "    quantization_config=bnb_config,\n",
    "    device_map=device_map,\n",
    ")\n",
    "franken_model = AutoModelForCausalLM.from_pretrained(\n",
    "    model_name,\n",
    "    device_map=device_map,\n",
    ")\n",
    "tokenizer = AutoTokenizer.from_pretrained(model_name)"
   ]
  },
  {
   "cell_type": "code",
   "execution_count": null,
   "metadata": {},
   "outputs": [],
   "source": [
    "print(model)"
   ]
  },
  {
   "cell_type": "code",
   "execution_count": null,
   "metadata": {},
   "outputs": [],
   "source": [
    "print(quantized_model)"
   ]
  },
  {
   "cell_type": "code",
   "execution_count": null,
   "metadata": {},
   "outputs": [],
   "source": [
    "component_memory_usage = {\n",
    "    \"Full Model\": get_llm_memory_usage(model.model) / 1024**2,\n",
    "    \"Embedding\": get_llm_memory_usage(model.model.embed_tokens) / 1024**2,\n",
    "    \"Model Head\": get_llm_memory_usage(model.lm_head) / 1024**2,\n",
    "    \"Attention Heads\": get_llm_memory_usage(model.model.layers[:]) / 1024**2,\n",
    "    \"Self Attention\": get_llm_memory_usage(model.model.layers[0].self_attn)\n",
    "    / 1024**2\n",
    "    * len(model.model.layers),\n",
    "    \"MLP\": get_llm_memory_usage(model.model.layers[0].mlp)\n",
    "    / 1024**2\n",
    "    * len(model.model.layers),\n",
    "}\n",
    "\n",
    "for component, usage in component_memory_usage.items():\n",
    "    print(f\"{component}: {usage:.2f} MB\")"
   ]
  },
  {
   "cell_type": "code",
   "execution_count": null,
   "metadata": {},
   "outputs": [],
   "source": [
    "import matplotlib.pyplot as plt\n",
    "\n",
    "labels = []\n",
    "memory_usage = []\n",
    "\n",
    "for component, usage in component_memory_usage.items():\n",
    "    labels.append(component)\n",
    "    memory_usage.append(usage)\n",
    "\n",
    "# assert that embedding + attention heads + model head ~= full model\n",
    "assert sum(memory_usage[1:4]) - memory_usage[0] < 30 * 1024**2\n",
    "\n",
    "# Plotting the histogram\n",
    "plt.figure(figsize=(10, 6))\n",
    "plt.bar(labels, memory_usage, color=\"skyblue\")\n",
    "plt.xlabel(\"Model Components\")\n",
    "plt.ylabel(\"Memory Usage (MB)\")\n",
    "plt.title(\"Memory Usage of Different Model Components\")\n",
    "plt.xticks(rotation=45)\n",
    "# make the last two components red\n",
    "plt.bar(labels[-2:], memory_usage[-2:], color=\"red\")\n",
    "plt.show()"
   ]
  },
  {
   "cell_type": "code",
   "execution_count": null,
   "metadata": {},
   "outputs": [],
   "source": []
  }
 ],
 "metadata": {
  "kernelspec": {
   "display_name": "baa",
   "language": "python",
   "name": "python3"
  },
  "language_info": {
   "codemirror_mode": {
    "name": "ipython",
    "version": 3
   },
   "file_extension": ".py",
   "mimetype": "text/x-python",
   "name": "python",
   "nbconvert_exporter": "python",
   "pygments_lexer": "ipython3",
   "version": "3.10.15"
  }
 },
 "nbformat": 4,
 "nbformat_minor": 2
}
