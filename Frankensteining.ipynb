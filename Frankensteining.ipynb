{
 "cells": [
  {
   "cell_type": "code",
   "execution_count": null,
   "metadata": {},
   "outputs": [],
   "source": [
    "from transformers import AutoModelForCausalLM, AutoTokenizer, BitsAndBytesConfig\n",
    "import torch\n",
    "from baa import PerplexityBenchmark, get_llm_memory_usage, device_map\n",
    "from datasets import load_dataset"
   ]
  },
  {
   "cell_type": "code",
   "execution_count": null,
   "metadata": {},
   "outputs": [],
   "source": [
    "model_name = \"HuggingFaceTB/SmolLM-360M-Instruct\"\n",
    "bnb_config = BitsAndBytesConfig(\n",
    "    load_in_4bit=True,\n",
    "    bnb_4bit_use_double_quant=True,\n",
    "    bnb_4bit_quant_type=\"nf4\",\n",
    "    bnb_4bit_compute_dtype=torch.bfloat16,\n",
    ")"
   ]
  },
  {
   "cell_type": "code",
   "execution_count": null,
   "metadata": {},
   "outputs": [],
   "source": [
    "model = AutoModelForCausalLM.from_pretrained(model_name, device_map=device_map)\n",
    "quantized_model = AutoModelForCausalLM.from_pretrained(\n",
    "    model_name,\n",
    "    quantization_config=bnb_config,\n",
    "    device_map=device_map,\n",
    ")\n",
    "franken_model = AutoModelForCausalLM.from_pretrained(\n",
    "    model_name,\n",
    "    device_map=device_map,\n",
    ")\n",
    "tokenizer = AutoTokenizer.from_pretrained(model_name)"
   ]
  },
  {
   "cell_type": "code",
   "execution_count": null,
   "metadata": {},
   "outputs": [],
   "source": [
    "print(f\"Model memory usage: {get_llm_memory_usage(model) / 1024 ** 2:.2f} MB\")\n",
    "print(\n",
    "    f\"Quantized model memory usage: {get_llm_memory_usage(quantized_model) / 1024 ** 2:.2f} MB\"\n",
    ")"
   ]
  },
  {
   "cell_type": "markdown",
   "metadata": {},
   "source": [
    "## Benchmarking both models based on the same dataset with Perplexity"
   ]
  },
  {
   "cell_type": "code",
   "execution_count": null,
   "metadata": {},
   "outputs": [],
   "source": [
    "dataset = load_dataset(\"wikitext\", \"wikitext-2-raw-v1\", split=\"test\")\n",
    "\n",
    "benchmark = PerplexityBenchmark(model=model, tokenizer=tokenizer, dataset=dataset)\n",
    "quantized_benchmark = PerplexityBenchmark(\n",
    "    model=quantized_model,\n",
    "    tokenizer=tokenizer,\n",
    "    dataset=dataset,\n",
    ")\n",
    "\n",
    "print(f\"Original model perplexity: {benchmark.evaluate(sample_size=200):.2f}\")\n",
    "print(\n",
    "    f\"Quantized model perplexity: {quantized_benchmark.evaluate(sample_size=200):.2f}\"\n",
    ")"
   ]
  },
  {
   "cell_type": "markdown",
   "metadata": {},
   "source": [
    "## Frankensteining the two models together"
   ]
  },
  {
   "cell_type": "code",
   "execution_count": null,
   "metadata": {},
   "outputs": [],
   "source": [
    "# replace embedding\n",
    "franken_model.model.embed_tokens = quantized_model.model.embed_tokens\n",
    "\n",
    "# run benchmark again\n",
    "benchmark.model = franken_model\n",
    "print(\n",
    "    f\"Quantized model perplexity after embedding replacement: {benchmark.evaluate(sample_size=200):.2f}\"\n",
    ")"
   ]
  },
  {
   "cell_type": "code",
   "execution_count": null,
   "metadata": {},
   "outputs": [],
   "source": [
    "# replace first 10 attention heads\n",
    "for i in range(30):\n",
    "    franken_model.model.layers[i].self_attn = quantized_model.model.layers[i].self_attn\n",
    "\n",
    "# run benchmark again\n",
    "benchmark.model = franken_model\n",
    "print(\n",
    "    f\"Quantized model perplexity after attention head replacement: {benchmark.evaluate(sample_size=200):.2f}\"\n",
    ")"
   ]
  },
  {
   "cell_type": "code",
   "execution_count": null,
   "metadata": {},
   "outputs": [],
   "source": [
    "# show frankenmodel memory usage\n",
    "print(\n",
    "    f\"Frankenmodel memory usage: {get_llm_memory_usage(franken_model) / 1024 ** 2:.2f} MB\"\n",
    ")"
   ]
  }
 ],
 "metadata": {
  "kernelspec": {
   "display_name": "Python 3",
   "language": "python",
   "name": "python3"
  },
  "language_info": {
   "codemirror_mode": {
    "name": "ipython",
    "version": 3
   },
   "file_extension": ".py",
   "mimetype": "text/x-python",
   "name": "python",
   "nbconvert_exporter": "python",
   "pygments_lexer": "ipython3",
   "version": "3.10.15"
  }
 },
 "nbformat": 4,
 "nbformat_minor": 2
}
